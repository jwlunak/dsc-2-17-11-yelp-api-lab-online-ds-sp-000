{
 "cells": [
  {
   "cell_type": "markdown",
   "metadata": {},
   "source": [
    "# Yelp API - Lab\n",
    "\n",
    "The previously deployed lab on working around building a GIS with Yelp API and Folium can be found [here](https://github.com/learn-co-curriculum/dsc-2-15-10-yelp-api-gis-lab/tree/a56358c2d0c2daf569a5f50937c4c27463aadb1a) (not relevant for new students).\n",
    "\n",
    "\n",
    "## Introduction \n",
    "\n",
    "Now that we've seen how the Yelp API works, and some basic Folium visualizations its time to put those skills to work in order to create a working map! Taking things a step further, you'll also independently explore how to perform pagination in order to retrieve a full results set from the Yelp API!\n",
    "\n",
    "## Objectives\n",
    "\n",
    "You will be able to: \n",
    "* Create HTTP requests to get data from Yelp API\n",
    "* Parse HTTP responses and perform data analysis on the data returned\n",
    "* Perform pagination to retrieve troves of data!\n",
    "* Create a simple geographical system on to view information about selected businesses, at a given location. "
   ]
  },
  {
   "cell_type": "markdown",
   "metadata": {},
   "source": [
    "## Problem Introduction\n",
    "\n",
    "You've now worked with some API calls, but we have yet to see how to retrieve a more complete dataset in a programmatic manner. Returning to the Yelp API, the [documentation](https://www.yelp.com/developers/documentation/v3/business_search) also provides us details regarding the API limits. These often include details about the number of requests a user is allowed to make within a specified time limit and the maximum number of results to be returned. In this case, we are told that any request has a maximum of 50 results per request and defaults to 20. Furthermore, any search will be limited to a total of 1000 results. To retrieve all 1000 of these results, we would have to page through the results piece by piece, retriving 50 at a time. Processes such as these are often refered to as pagination.\n",
    "\n",
    "In this lab, you will define a search and then paginate over the results to retrieve all of the results. You'll then parse these responses as a DataFrame (for further exploration) and create a map using Folium to visualize the results geographically."
   ]
  },
  {
   "cell_type": "markdown",
   "metadata": {},
   "source": [
    "## Part I - Make the Initial Request\n",
    "\n",
    "Start by making an initial request to the Yelp API. Your search must include at least 2 parameters: **term** and **location**. For example, you might search for pizza restaurants in NYC. The term and location is up to you, but make the request below."
   ]
  },
  {
   "cell_type": "code",
   "execution_count": 1,
   "metadata": {},
   "outputs": [],
   "source": [
    "#Your code here\n",
    "import requests"
   ]
  },
  {
   "cell_type": "code",
   "execution_count": 2,
   "metadata": {},
   "outputs": [],
   "source": [
    "api_key = 'Au0C3R2kALu3iJUl2OdlrtSzzER6VyXYn-D6jzU9x6vf43DghQvTKRVjJ6b7fDc04d-QYrLNCUCRJBwllnP8yvC0L4jxCugrWR-9o481ZMKXtpgTFokMv-zxfT2UXHYx'\n",
    "\n",
    "url = 'https://api.yelp.com/v3/businesses/search'\n",
    "\n",
    "headers = {\n",
    "        'Authorization': 'Bearer {}'.format(api_key),\n",
    "    }\n",
    "\n",
    "url_params = {\n",
    "                'location': 'NYC',\n",
    "                'term' : 'pizza',\n",
    "                'limit' : 50,\n",
    "                'price' : \"1,2,3,4\",\n",
    "                'open_now' : True\n",
    "            }\n",
    "response = requests.get(url, headers=headers, params=url_params)"
   ]
  },
  {
   "cell_type": "markdown",
   "metadata": {},
   "source": [
    "## Pagination\n",
    "\n",
    "Now that you have an initial response, you can examine the contents of the json container. For example, you might start with ```response.josn().keys()```. Here, you'll see a key for `'total'`, which tells you the full number of matching results given your query parameters. Write a loop (or ideally a function) which then makes successive API calls using the offset parameter to retrieve all of the results (or 5000 for a particularly large result set) for the original query. As you do this, be mindful of how you store the data. Your final goal will be to reformat the data concerning the businesses themselves into a pandas DataFrame from the json objects.\n",
    "\n",
    "**Note: be mindful of the API rate limits. You can only make 5000 requests per day, and are also can make requests too fast. Start prototyping small before running a loop that could be faulty. You can also use time.sleep(n) to add delays. For more details see https://www.yelp.com/developers/documentation/v3/rate_limiting.**"
   ]
  },
  {
   "cell_type": "code",
   "execution_count": 3,
   "metadata": {},
   "outputs": [
    {
     "data": {
      "text/plain": [
       "dict_keys(['businesses', 'total', 'region'])"
      ]
     },
     "execution_count": 3,
     "metadata": {},
     "output_type": "execute_result"
    }
   ],
   "source": [
    "response.json().keys()"
   ]
  },
  {
   "cell_type": "code",
   "execution_count": 4,
   "metadata": {},
   "outputs": [
    {
     "name": "stdout",
     "output_type": "stream",
     "text": [
      "businesses\n",
      "<class 'list'>\n",
      "\n",
      "\n",
      "\n",
      "total\n",
      "<class 'int'>\n",
      "\n",
      "\n",
      "\n",
      "region\n",
      "<class 'dict'>\n",
      "\n",
      "\n",
      "\n"
     ]
    }
   ],
   "source": [
    "# Your code here; use a function or loop to retrieve all the results from your original request\n",
    "for key in response.json().keys():\n",
    "    print(key)\n",
    "    value = response.json()[key] #Use standard dictionary formatting\n",
    "    print(type(value)) #What type is it?\n",
    "    print('\\n\\n') #Seperate out data"
   ]
  },
  {
   "cell_type": "code",
   "execution_count": 5,
   "metadata": {},
   "outputs": [
    {
     "data": {
      "text/plain": [
       "[{'id': 'WIhm0W9197f_rRtDziq5qQ',\n",
       "  'alias': 'lombardis-pizza-new-york-4',\n",
       "  'name': \"Lombardi's Pizza\",\n",
       "  'image_url': 'https://s3-media1.fl.yelpcdn.com/bphoto/UZ6V_hobp1KpYDPOHNoCKw/o.jpg',\n",
       "  'is_closed': False,\n",
       "  'url': 'https://www.yelp.com/biz/lombardis-pizza-new-york-4?adjust_creative=IsyCUylDgXB-U-lS838dTQ&utm_campaign=yelp_api_v3&utm_medium=api_v3_business_search&utm_source=IsyCUylDgXB-U-lS838dTQ',\n",
       "  'review_count': 5800,\n",
       "  'categories': [{'alias': 'pizza', 'title': 'Pizza'}],\n",
       "  'rating': 4.0,\n",
       "  'coordinates': {'latitude': 40.72164, 'longitude': -73.9957},\n",
       "  'transactions': ['delivery', 'pickup'],\n",
       "  'price': '$$',\n",
       "  'location': {'address1': '32 Spring St',\n",
       "   'address2': '',\n",
       "   'address3': '',\n",
       "   'city': 'New York',\n",
       "   'zip_code': '10012',\n",
       "   'country': 'US',\n",
       "   'state': 'NY',\n",
       "   'display_address': ['32 Spring St', 'New York, NY 10012']},\n",
       "  'phone': '+12129417994',\n",
       "  'display_phone': '(212) 941-7994',\n",
       "  'distance': 1804.4733931798112},\n",
       " {'id': 'zj8Lq1T8KIC5zwFief15jg',\n",
       "  'alias': 'prince-street-pizza-new-york-2',\n",
       "  'name': 'Prince Street Pizza',\n",
       "  'image_url': 'https://s3-media3.fl.yelpcdn.com/bphoto/ZAukOyv530w4KjOHC5YY1w/o.jpg',\n",
       "  'is_closed': False,\n",
       "  'url': 'https://www.yelp.com/biz/prince-street-pizza-new-york-2?adjust_creative=IsyCUylDgXB-U-lS838dTQ&utm_campaign=yelp_api_v3&utm_medium=api_v3_business_search&utm_source=IsyCUylDgXB-U-lS838dTQ',\n",
       "  'review_count': 2599,\n",
       "  'categories': [{'alias': 'pizza', 'title': 'Pizza'},\n",
       "   {'alias': 'italian', 'title': 'Italian'}],\n",
       "  'rating': 4.5,\n",
       "  'coordinates': {'latitude': 40.7229087705545,\n",
       "   'longitude': -73.9944863319397},\n",
       "  'transactions': ['delivery', 'pickup'],\n",
       "  'price': '$',\n",
       "  'location': {'address1': '27 Prince St',\n",
       "   'address2': None,\n",
       "   'address3': '',\n",
       "   'city': 'New York',\n",
       "   'zip_code': '10012',\n",
       "   'country': 'US',\n",
       "   'state': 'NY',\n",
       "   'display_address': ['27 Prince St', 'New York, NY 10012']},\n",
       "  'phone': '+12129664100',\n",
       "  'display_phone': '(212) 966-4100',\n",
       "  'distance': 1941.9638172538225}]"
      ]
     },
     "execution_count": 5,
     "metadata": {},
     "output_type": "execute_result"
    }
   ],
   "source": [
    "response.json()['businesses'][:2]"
   ]
  },
  {
   "cell_type": "code",
   "execution_count": 6,
   "metadata": {},
   "outputs": [
    {
     "data": {
      "text/plain": [
       "4200"
      ]
     },
     "execution_count": 6,
     "metadata": {},
     "output_type": "execute_result"
    }
   ],
   "source": [
    "response.json()['total']"
   ]
  },
  {
   "cell_type": "code",
   "execution_count": 7,
   "metadata": {},
   "outputs": [
    {
     "data": {
      "text/plain": [
       "{'center': {'longitude': -73.99429321289062, 'latitude': 40.70544486444615}}"
      ]
     },
     "execution_count": 7,
     "metadata": {},
     "output_type": "execute_result"
    }
   ],
   "source": [
    "response.json()['region']"
   ]
  },
  {
   "cell_type": "markdown",
   "metadata": {},
   "source": [
    "## Exploratory Analysis\n",
    "\n",
    "Take the restaurants from the previous question and do an intial exploratory analysis. At minimum, this should include looking at the distribution of features such as price, rating and number of reviews as well as the relations between these dimensions."
   ]
  },
  {
   "cell_type": "code",
   "execution_count": 8,
   "metadata": {},
   "outputs": [
    {
     "name": "stdout",
     "output_type": "stream",
     "text": [
      "50\n",
      "Index(['alias', 'categories', 'coordinates', 'display_phone', 'distance', 'id',\n",
      "       'image_url', 'is_closed', 'location', 'name', 'phone', 'price',\n",
      "       'rating', 'review_count', 'transactions', 'url'],\n",
      "      dtype='object')\n"
     ]
    },
    {
     "data": {
      "text/html": [
       "<div>\n",
       "<style scoped>\n",
       "    .dataframe tbody tr th:only-of-type {\n",
       "        vertical-align: middle;\n",
       "    }\n",
       "\n",
       "    .dataframe tbody tr th {\n",
       "        vertical-align: top;\n",
       "    }\n",
       "\n",
       "    .dataframe thead th {\n",
       "        text-align: right;\n",
       "    }\n",
       "</style>\n",
       "<table border=\"1\" class=\"dataframe\">\n",
       "  <thead>\n",
       "    <tr style=\"text-align: right;\">\n",
       "      <th></th>\n",
       "      <th>alias</th>\n",
       "      <th>categories</th>\n",
       "      <th>coordinates</th>\n",
       "      <th>display_phone</th>\n",
       "      <th>distance</th>\n",
       "      <th>id</th>\n",
       "      <th>image_url</th>\n",
       "      <th>is_closed</th>\n",
       "      <th>location</th>\n",
       "      <th>name</th>\n",
       "      <th>phone</th>\n",
       "      <th>price</th>\n",
       "      <th>rating</th>\n",
       "      <th>review_count</th>\n",
       "      <th>transactions</th>\n",
       "      <th>url</th>\n",
       "    </tr>\n",
       "  </thead>\n",
       "  <tbody>\n",
       "    <tr>\n",
       "      <th>0</th>\n",
       "      <td>lombardis-pizza-new-york-4</td>\n",
       "      <td>[{'alias': 'pizza', 'title': 'Pizza'}]</td>\n",
       "      <td>{'latitude': 40.72164, 'longitude': -73.9957}</td>\n",
       "      <td>(212) 941-7994</td>\n",
       "      <td>1804.473393</td>\n",
       "      <td>WIhm0W9197f_rRtDziq5qQ</td>\n",
       "      <td>https://s3-media1.fl.yelpcdn.com/bphoto/UZ6V_h...</td>\n",
       "      <td>False</td>\n",
       "      <td>{'address1': '32 Spring St', 'address2': '', '...</td>\n",
       "      <td>Lombardi's Pizza</td>\n",
       "      <td>+12129417994</td>\n",
       "      <td>$$</td>\n",
       "      <td>4.0</td>\n",
       "      <td>5800</td>\n",
       "      <td>[delivery, pickup]</td>\n",
       "      <td>https://www.yelp.com/biz/lombardis-pizza-new-y...</td>\n",
       "    </tr>\n",
       "    <tr>\n",
       "      <th>1</th>\n",
       "      <td>prince-street-pizza-new-york-2</td>\n",
       "      <td>[{'alias': 'pizza', 'title': 'Pizza'}, {'alias...</td>\n",
       "      <td>{'latitude': 40.7229087705545, 'longitude': -7...</td>\n",
       "      <td>(212) 966-4100</td>\n",
       "      <td>1941.963817</td>\n",
       "      <td>zj8Lq1T8KIC5zwFief15jg</td>\n",
       "      <td>https://s3-media3.fl.yelpcdn.com/bphoto/ZAukOy...</td>\n",
       "      <td>False</td>\n",
       "      <td>{'address1': '27 Prince St', 'address2': None,...</td>\n",
       "      <td>Prince Street Pizza</td>\n",
       "      <td>+12129664100</td>\n",
       "      <td>$</td>\n",
       "      <td>4.5</td>\n",
       "      <td>2599</td>\n",
       "      <td>[delivery, pickup]</td>\n",
       "      <td>https://www.yelp.com/biz/prince-street-pizza-n...</td>\n",
       "    </tr>\n",
       "    <tr>\n",
       "      <th>2</th>\n",
       "      <td>joes-pizza-new-york-4</td>\n",
       "      <td>[{'alias': 'pizza', 'title': 'Pizza'}]</td>\n",
       "      <td>{'latitude': 40.7305599, 'longitude': -74.0021...</td>\n",
       "      <td>(212) 366-1182</td>\n",
       "      <td>2873.553223</td>\n",
       "      <td>uc5qQMzs96rzjK27epDCug</td>\n",
       "      <td>https://s3-media2.fl.yelpcdn.com/bphoto/FhbFkr...</td>\n",
       "      <td>False</td>\n",
       "      <td>{'address1': '7 Carmine St', 'address2': '', '...</td>\n",
       "      <td>Joe's Pizza</td>\n",
       "      <td>+12123661182</td>\n",
       "      <td>$</td>\n",
       "      <td>4.0</td>\n",
       "      <td>2206</td>\n",
       "      <td>[]</td>\n",
       "      <td>https://www.yelp.com/biz/joes-pizza-new-york-4...</td>\n",
       "    </tr>\n",
       "    <tr>\n",
       "      <th>3</th>\n",
       "      <td>bleecker-street-pizza-new-york</td>\n",
       "      <td>[{'alias': 'pizza', 'title': 'Pizza'}, {'alias...</td>\n",
       "      <td>{'latitude': 40.7320627016512, 'longitude': -7...</td>\n",
       "      <td>(212) 924-4466</td>\n",
       "      <td>3072.954045</td>\n",
       "      <td>oJ_XSPZFpvIt6rvheSQl7A</td>\n",
       "      <td>https://s3-media4.fl.yelpcdn.com/bphoto/Kyi2tP...</td>\n",
       "      <td>False</td>\n",
       "      <td>{'address1': '69 7th Ave S', 'address2': None,...</td>\n",
       "      <td>Bleecker Street Pizza</td>\n",
       "      <td>+12129244466</td>\n",
       "      <td>$</td>\n",
       "      <td>4.0</td>\n",
       "      <td>2007</td>\n",
       "      <td>[delivery, pickup]</td>\n",
       "      <td>https://www.yelp.com/biz/bleecker-street-pizza...</td>\n",
       "    </tr>\n",
       "    <tr>\n",
       "      <th>4</th>\n",
       "      <td>l-industrie-pizzeria-brooklyn</td>\n",
       "      <td>[{'alias': 'pizza', 'title': 'Pizza'}]</td>\n",
       "      <td>{'latitude': 40.71162, 'longitude': -73.95783}</td>\n",
       "      <td>(718) 599-0002</td>\n",
       "      <td>3145.016041</td>\n",
       "      <td>v1DHGRNCH9247WLYoaoA9A</td>\n",
       "      <td>https://s3-media2.fl.yelpcdn.com/bphoto/SRL_Rz...</td>\n",
       "      <td>False</td>\n",
       "      <td>{'address1': '254 S 2nd St', 'address2': '', '...</td>\n",
       "      <td>L'industrie Pizzeria</td>\n",
       "      <td>+17185990002</td>\n",
       "      <td>$</td>\n",
       "      <td>5.0</td>\n",
       "      <td>402</td>\n",
       "      <td>[delivery, pickup]</td>\n",
       "      <td>https://www.yelp.com/biz/l-industrie-pizzeria-...</td>\n",
       "    </tr>\n",
       "  </tbody>\n",
       "</table>\n",
       "</div>"
      ],
      "text/plain": [
       "                            alias  \\\n",
       "0      lombardis-pizza-new-york-4   \n",
       "1  prince-street-pizza-new-york-2   \n",
       "2           joes-pizza-new-york-4   \n",
       "3  bleecker-street-pizza-new-york   \n",
       "4   l-industrie-pizzeria-brooklyn   \n",
       "\n",
       "                                          categories  \\\n",
       "0             [{'alias': 'pizza', 'title': 'Pizza'}]   \n",
       "1  [{'alias': 'pizza', 'title': 'Pizza'}, {'alias...   \n",
       "2             [{'alias': 'pizza', 'title': 'Pizza'}]   \n",
       "3  [{'alias': 'pizza', 'title': 'Pizza'}, {'alias...   \n",
       "4             [{'alias': 'pizza', 'title': 'Pizza'}]   \n",
       "\n",
       "                                         coordinates   display_phone  \\\n",
       "0      {'latitude': 40.72164, 'longitude': -73.9957}  (212) 941-7994   \n",
       "1  {'latitude': 40.7229087705545, 'longitude': -7...  (212) 966-4100   \n",
       "2  {'latitude': 40.7305599, 'longitude': -74.0021...  (212) 366-1182   \n",
       "3  {'latitude': 40.7320627016512, 'longitude': -7...  (212) 924-4466   \n",
       "4     {'latitude': 40.71162, 'longitude': -73.95783}  (718) 599-0002   \n",
       "\n",
       "      distance                      id  \\\n",
       "0  1804.473393  WIhm0W9197f_rRtDziq5qQ   \n",
       "1  1941.963817  zj8Lq1T8KIC5zwFief15jg   \n",
       "2  2873.553223  uc5qQMzs96rzjK27epDCug   \n",
       "3  3072.954045  oJ_XSPZFpvIt6rvheSQl7A   \n",
       "4  3145.016041  v1DHGRNCH9247WLYoaoA9A   \n",
       "\n",
       "                                           image_url  is_closed  \\\n",
       "0  https://s3-media1.fl.yelpcdn.com/bphoto/UZ6V_h...      False   \n",
       "1  https://s3-media3.fl.yelpcdn.com/bphoto/ZAukOy...      False   \n",
       "2  https://s3-media2.fl.yelpcdn.com/bphoto/FhbFkr...      False   \n",
       "3  https://s3-media4.fl.yelpcdn.com/bphoto/Kyi2tP...      False   \n",
       "4  https://s3-media2.fl.yelpcdn.com/bphoto/SRL_Rz...      False   \n",
       "\n",
       "                                            location                   name  \\\n",
       "0  {'address1': '32 Spring St', 'address2': '', '...       Lombardi's Pizza   \n",
       "1  {'address1': '27 Prince St', 'address2': None,...    Prince Street Pizza   \n",
       "2  {'address1': '7 Carmine St', 'address2': '', '...            Joe's Pizza   \n",
       "3  {'address1': '69 7th Ave S', 'address2': None,...  Bleecker Street Pizza   \n",
       "4  {'address1': '254 S 2nd St', 'address2': '', '...   L'industrie Pizzeria   \n",
       "\n",
       "          phone price  rating  review_count        transactions  \\\n",
       "0  +12129417994    $$     4.0          5800  [delivery, pickup]   \n",
       "1  +12129664100     $     4.5          2599  [delivery, pickup]   \n",
       "2  +12123661182     $     4.0          2206                  []   \n",
       "3  +12129244466     $     4.0          2007  [delivery, pickup]   \n",
       "4  +17185990002     $     5.0           402  [delivery, pickup]   \n",
       "\n",
       "                                                 url  \n",
       "0  https://www.yelp.com/biz/lombardis-pizza-new-y...  \n",
       "1  https://www.yelp.com/biz/prince-street-pizza-n...  \n",
       "2  https://www.yelp.com/biz/joes-pizza-new-york-4...  \n",
       "3  https://www.yelp.com/biz/bleecker-street-pizza...  \n",
       "4  https://www.yelp.com/biz/l-industrie-pizzeria-...  "
      ]
     },
     "execution_count": 8,
     "metadata": {},
     "output_type": "execute_result"
    }
   ],
   "source": [
    "#Your code here\n",
    "import pandas as pd\n",
    "\n",
    "df = pd.DataFrame.from_dict(response.json()['businesses'])\n",
    "print(len(df)) #Print how many rows\n",
    "print(df.columns) #Print column names\n",
    "df.head() #Previews the first five rows."
   ]
  },
  {
   "cell_type": "markdown",
   "metadata": {},
   "source": [
    "## Mapping\n",
    "\n",
    "Look at the initial Yelp example and try and make a map using Folium of the restaurants you retrieved. Be sure to also add popups to the markers giving some basic information such as name, rating and price."
   ]
  },
  {
   "cell_type": "code",
   "execution_count": 9,
   "metadata": {},
   "outputs": [
    {
     "name": "stdout",
     "output_type": "stream",
     "text": [
      "Requirement already satisfied: folium in c:\\users\\administrator\\anaconda3\\lib\\site-packages (0.8.3)\n",
      "Requirement already satisfied: six in c:\\users\\administrator\\anaconda3\\lib\\site-packages (from folium) (1.11.0)\n",
      "Requirement already satisfied: jinja2 in c:\\users\\administrator\\anaconda3\\lib\\site-packages (from folium) (2.10)\n",
      "Requirement already satisfied: requests in c:\\users\\administrator\\anaconda3\\lib\\site-packages (from folium) (2.19.1)\n",
      "Requirement already satisfied: numpy in c:\\users\\administrator\\anaconda3\\lib\\site-packages (from folium) (1.15.1)\n",
      "Requirement already satisfied: branca>=0.3.0 in c:\\users\\administrator\\anaconda3\\lib\\site-packages (from folium) (0.3.1)\n",
      "Requirement already satisfied: MarkupSafe>=0.23 in c:\\users\\administrator\\anaconda3\\lib\\site-packages (from jinja2->folium) (1.0)\n",
      "Requirement already satisfied: certifi>=2017.4.17 in c:\\users\\administrator\\anaconda3\\lib\\site-packages (from requests->folium) (2018.8.24)\n",
      "Requirement already satisfied: chardet<3.1.0,>=3.0.2 in c:\\users\\administrator\\anaconda3\\lib\\site-packages (from requests->folium) (3.0.4)\n",
      "Requirement already satisfied: urllib3<1.24,>=1.21.1 in c:\\users\\administrator\\anaconda3\\lib\\site-packages (from requests->folium) (1.23)\n",
      "Requirement already satisfied: idna<2.8,>=2.5 in c:\\users\\administrator\\anaconda3\\lib\\site-packages (from requests->folium) (2.7)\n"
     ]
    },
    {
     "name": "stderr",
     "output_type": "stream",
     "text": [
      "twisted 18.7.0 requires PyHamcrest>=1.9.0, which is not installed.\n",
      "You are using pip version 10.0.1, however version 19.0.3 is available.\n",
      "You should consider upgrading via the 'python -m pip install --upgrade pip' command.\n"
     ]
    },
    {
     "data": {
      "text/html": [
       "<div style=\"width:100%;\"><div style=\"position:relative;width:100%;height:0;padding-bottom:60%;\"><iframe src=\"data:text/html;charset=utf-8;base64,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\" style=\"position:absolute;width:100%;height:100%;left:0;top:0;border:none !important;\" allowfullscreen webkitallowfullscreen mozallowfullscreen></iframe></div></div>"
      ],
      "text/plain": [
       "<folium.folium.Map at 0x886f048>"
      ]
     },
     "execution_count": 9,
     "metadata": {},
     "output_type": "execute_result"
    }
   ],
   "source": [
    "#Your code here\n",
    "! pip install folium\n",
    "import folium\n",
    "\n",
    "\n",
    "lat_long = df['coordinates'].iloc[0]\n",
    "lat = lat_long['latitude']\n",
    "long = lat_long['longitude']\n",
    "yelp_map = folium.Map([lat, long])\n",
    "\n",
    "for row in df.index:\n",
    "    try:\n",
    "        lat_long = df['coordinates'][row]\n",
    "        lat = lat_long['latitude']\n",
    "        long = lat_long['longitude']\n",
    "        name = df['name'][row]\n",
    "        rating = df['rating'][row]\n",
    "        price = df['price'][row]\n",
    "        details = \"{}\\nPrice: {} Rating:{}\".format(name,str(price),str(rating))\n",
    "        popup = folium.Popup(details, parse_html=True)\n",
    "        marker = folium.Marker([lat, long], popup=popup)\n",
    "        marker.add_to(yelp_map)\n",
    "    except:\n",
    "        print('Hit error on row: {}'.format(row))\n",
    "yelp_map"
   ]
  },
  {
   "cell_type": "markdown",
   "metadata": {},
   "source": [
    "## Summary\n",
    "\n",
    "Nice work! In this lab, you synthesized your skills for the day, making multiple API calls to Yelp in order to paginate through a results set, performing some basic exploratory analysis and then creating a nice map visual to display the results! Well done!"
   ]
  }
 ],
 "metadata": {
  "kernelspec": {
   "display_name": "learn-env",
   "language": "python",
   "name": "learn-env"
  },
  "language_info": {
   "codemirror_mode": {
    "name": "ipython",
    "version": 3
   },
   "file_extension": ".py",
   "mimetype": "text/x-python",
   "name": "python",
   "nbconvert_exporter": "python",
   "pygments_lexer": "ipython3",
   "version": "3.7.0"
  }
 },
 "nbformat": 4,
 "nbformat_minor": 2
}
